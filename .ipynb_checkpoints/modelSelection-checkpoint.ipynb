{
 "cells": [
  {
   "cell_type": "markdown",
   "id": "9b37f884-e529-4b93-8bac-8f012f9a9f90",
   "metadata": {},
   "source": [
    "# 1. 라이브러리 선언"
   ]
  },
  {
   "cell_type": "code",
   "execution_count": 8,
   "id": "cd32df52-7c43-4892-8481-31c251b30dbd",
   "metadata": {},
   "outputs": [],
   "source": [
    "import sys,os\n",
    "import pandas as pd\n",
    "import numpy as np\n",
    "\n",
    "# 시계열 데이터 보간 모듈 패키지 추가\n",
    "# from Preprocessing.NAOMI.naomi import NAMOIimputation\n",
    "# from Preprocessing.BRITS.brits import BRITSimputation\n",
    "\n",
    "\n",
    "\n",
    "\n",
    "# ,py파일 패키지 모듈 추가\n",
    "\n",
    "from Visualization.Visualize import Visualize\n",
    "from Analysis.Analysis import Analysis\n",
    "from Data import Data_management\n",
    "import Preprocessing"
   ]
  },
  {
   "cell_type": "code",
   "execution_count": 9,
   "id": "56b3e0c4-7beb-4339-9690-fc69cd91c0dd",
   "metadata": {},
   "outputs": [],
   "source": [
    "class Model_selection:\n",
    "    modelDic = {}\n",
    "    def __init__(self, dataframe = None, model = None, uid = None):\n",
    "        self.dataframe = dataframe\n",
    "        self.model = model\n",
    "        self.result= None\n",
    "        self.uid = uid\n",
    "    #보간 방법을 auto로 설정했을 때 모델을 자동으로 선택해주는 함수\n",
    "    #연속되는 구간의 길이가 10 이상이라면 True, 아니면 False를 return 한다.\n",
    "    def autoFind(dataframe):\n",
    "        maxnull = 0\n",
    "        cur = 0\n",
    "        #dataframe을 순회하면서 NaN이 연속으로 나오는 횟수의 최댓값을 계산한다.\n",
    "        for i in range(len(dataframe)):\n",
    "            if dataframe[\"value\"].iloc[i] == \"NaN\" or pd.isnull(dataframe[\"value\"].iloc[i]):\n",
    "                cur += 1\n",
    "                maxnull = max(maxnull, cur)\n",
    "            else:\n",
    "                cur = 0\n",
    "        return maxnull>10\n",
    "    \n",
    "    \n",
    "    #모델들의 학습 상태를 저장할 dictionary\n",
    "    #key: 세션의 고유한 id\n",
    "    #value: (model, 모델종류 이름) 형태의 튜플\n",
    "    \n",
    "    def getModel(uid, inSelectedModel=None, dataframe = None, window_size = None):\n",
    "        # uid: 요청을 보내온 세션의 고유한 id\n",
    "        # inSelectedModel: 요청을 보내온 모델 종류\n",
    "        \n",
    "        #만약 uid가 modelDic에 존재한다면 그 그값을 return 한다.\n",
    "        if uid in modelDic:\n",
    "            return modelDic[uid]\n",
    "        \n",
    "#         if inSelectedModel == \"TrainedModel\":\n",
    "#             TrainedModel(inModel)\n",
    "        if inSelectedModel == \"Analysis\":\n",
    "            analData = Analysis.Analysis\n",
    "            \n",
    "        elif inSelectedModel == \"Preprocessing\":\n",
    "            preData = Preprocessing.Preprocessing\n",
    "            \n",
    "            #inSelectedModel이 NAOMI라면 NAOMI모델을, BRITS라면 BRITS모델을, 둘다 아니라면 자동으로 모델을 찾아서 모델을 생성한다.\n",
    "            #모델을 생성한 후 uid를 key 값으로 modelDic에 넣는다.\n",
    "            if inSelectedModel==\"NAOMI\":\n",
    "                modelDic[uid] = (NAMOIimputation(dataframe = dataframe, window_size=window_size), \"NAOMI\")\n",
    "                \n",
    "            elif inSelectedModel==\"BRITS\":\n",
    "                modelDic[uid] = (BRITSimputation(dataframe = dataframe), \"BRITS\")\n",
    "                \n",
    "            else:\n",
    "                find = autoFind(dataframe)\n",
    "                \n",
    "                if find:\n",
    "                    modelDic[uid] = (NAMOIimputation(dataframe = dataframe, window_size=len(dataframe)//10), \"NAOMI\")\n",
    "                    \n",
    "                else:\n",
    "                    modelDic[uid] = (BRITSimputation(dataframe = dataframe), \"BRITS\")\n",
    "#                     print(modelDic)\n",
    "\n",
    "            #결과를 return한다.\n",
    "            return modelDic[uid]\n",
    "                \n",
    "        elif inSelectedModel == \"Visualization\":\n",
    "            visualData = Visualize.Visualize"
   ]
  },
  {
   "cell_type": "code",
   "execution_count": null,
   "id": "4e75f6ed-83ed-4e7c-b061-67913f0590a1",
   "metadata": {},
   "outputs": [],
   "source": []
  },
  {
   "cell_type": "code",
   "execution_count": 44,
   "id": "b85b2046-60a4-498b-9f8b-8f4e20e3a7fa",
   "metadata": {},
   "outputs": [
    {
     "name": "stdout",
     "output_type": "stream",
     "text": [
      "C:\\python-workspace\\0.ModelSelection\n"
     ]
    }
   ],
   "source": [
    "# print(os.getcwd())"
   ]
  },
  {
   "cell_type": "code",
   "execution_count": 7,
   "id": "1e29ad86-88ae-41a0-a080-a514b79d3b60",
   "metadata": {},
   "outputs": [
    {
     "data": {
      "text/plain": [
       "['C:\\\\python-workspace\\\\ModelSelection',\n",
       " 'C:\\\\Users\\\\jeong\\\\anaconda3\\\\python38.zip',\n",
       " 'C:\\\\Users\\\\jeong\\\\anaconda3\\\\DLLs',\n",
       " 'C:\\\\Users\\\\jeong\\\\anaconda3\\\\lib',\n",
       " 'C:\\\\Users\\\\jeong\\\\anaconda3',\n",
       " '',\n",
       " 'C:\\\\Users\\\\jeong\\\\anaconda3\\\\lib\\\\site-packages',\n",
       " 'C:\\\\Users\\\\jeong\\\\anaconda3\\\\lib\\\\site-packages\\\\locket-0.2.1-py3.8.egg',\n",
       " 'C:\\\\Users\\\\jeong\\\\anaconda3\\\\lib\\\\site-packages\\\\win32',\n",
       " 'C:\\\\Users\\\\jeong\\\\anaconda3\\\\lib\\\\site-packages\\\\win32\\\\lib',\n",
       " 'C:\\\\Users\\\\jeong\\\\anaconda3\\\\lib\\\\site-packages\\\\Pythonwin',\n",
       " 'C:\\\\Users\\\\jeong\\\\anaconda3\\\\lib\\\\site-packages\\\\IPython\\\\extensions',\n",
       " 'C:\\\\Users\\\\jeong\\\\.ipython',\n",
       " 'C:\\\\python-workspace',\n",
       " 'C:\\\\python-workspace']"
      ]
     },
     "execution_count": 7,
     "metadata": {},
     "output_type": "execute_result"
    }
   ],
   "source": [
    "sys.path"
   ]
  },
  {
   "cell_type": "code",
   "execution_count": null,
   "id": "583a27b8-e092-41ce-b01d-d4a2367ee6ff",
   "metadata": {},
   "outputs": [],
   "source": []
  }
 ],
 "metadata": {
  "kernelspec": {
   "display_name": "Python 3",
   "language": "python",
   "name": "python3"
  },
  "language_info": {
   "codemirror_mode": {
    "name": "ipython",
    "version": 3
   },
   "file_extension": ".py",
   "mimetype": "text/x-python",
   "name": "python",
   "nbconvert_exporter": "python",
   "pygments_lexer": "ipython3",
   "version": "3.8.8"
  }
 },
 "nbformat": 4,
 "nbformat_minor": 5
}
