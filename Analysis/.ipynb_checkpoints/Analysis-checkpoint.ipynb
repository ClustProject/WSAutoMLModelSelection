{
 "cells": [
  {
   "cell_type": "code",
   "execution_count": 2,
   "id": "03c551aa-9c3c-4a27-9633-16e944aaed11",
   "metadata": {},
   "outputs": [],
   "source": [
    "import os, sys\n",
    "data_path = '../Data/__init__.py'\n",
    "sys.path.append(os.path.dirname(os.path.abspath(os.path.dirname(data_path))))\n",
    "from Data.Data_management import editData"
   ]
  },
  {
   "cell_type": "code",
   "execution_count": 4,
   "id": "ad2ec272-81bb-4a27-ac16-c16cba8d2b1c",
   "metadata": {},
   "outputs": [],
   "source": [
    "class Analysis:\n",
    "    def Analysis(inAnal):\n",
    "        inAnal = editData()\n",
    "        return outAnal"
   ]
  },
  {
   "cell_type": "code",
   "execution_count": null,
   "id": "91b055af-3962-408c-a2bf-0f9bc1833942",
   "metadata": {},
   "outputs": [],
   "source": []
  }
 ],
 "metadata": {
  "kernelspec": {
   "display_name": "Python 3",
   "language": "python",
   "name": "python3"
  },
  "language_info": {
   "codemirror_mode": {
    "name": "ipython",
    "version": 3
   },
   "file_extension": ".py",
   "mimetype": "text/x-python",
   "name": "python",
   "nbconvert_exporter": "python",
   "pygments_lexer": "ipython3",
   "version": "3.8.8"
  }
 },
 "nbformat": 4,
 "nbformat_minor": 5
}
