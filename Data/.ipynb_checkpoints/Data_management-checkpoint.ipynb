{
 "cells": [
  {
   "cell_type": "code",
   "execution_count": 7,
   "id": "318a37b2-65fe-4ee0-92d5-76cf5c5a7cb3",
   "metadata": {},
   "outputs": [],
   "source": [
    "import pandas as pd\n",
    "import os, sys\n",
    "data_path = '../modelSelection.py'\n",
    "sys.path.append(os.path.dirname(os.path.abspath(os.path.dirname(data_path))))"
   ]
  },
  {
   "cell_type": "code",
   "execution_count": null,
   "id": "ee91d866-8d91-40dc-b0c6-42647e264bfd",
   "metadata": {},
   "outputs": [],
   "source": []
  },
  {
   "cell_type": "code",
   "execution_count": 8,
   "id": "5b897b6e-220a-4129-84f3-520eeaaafc41",
   "metadata": {},
   "outputs": [
    {
     "ename": "ModuleNotFoundError",
     "evalue": "No module named 'Preprocessing'",
     "output_type": "error",
     "traceback": [
      "\u001b[1;31m---------------------------------------------------------------------------\u001b[0m",
      "\u001b[1;31mModuleNotFoundError\u001b[0m                       Traceback (most recent call last)",
      "\u001b[1;32m<ipython-input-8-f16c4bf372c4>\u001b[0m in \u001b[0;36m<module>\u001b[1;34m\u001b[0m\n\u001b[1;32m----> 1\u001b[1;33m \u001b[1;32mfrom\u001b[0m \u001b[0mModelSelection\u001b[0m \u001b[1;32mimport\u001b[0m \u001b[0mmodelSelection\u001b[0m\u001b[1;33m\u001b[0m\u001b[1;33m\u001b[0m\u001b[0m\n\u001b[0m",
      "\u001b[1;32mC:\\python-workspace\\ModelSelection\\modelSelection.py\u001b[0m in \u001b[0;36m<module>\u001b[1;34m\u001b[0m\n\u001b[0;32m     12\u001b[0m \u001b[1;33m\u001b[0m\u001b[0m\n\u001b[0;32m     13\u001b[0m \u001b[1;31m# 시계열 데이터 보간 모듈 패키지 추가\u001b[0m\u001b[1;33m\u001b[0m\u001b[1;33m\u001b[0m\u001b[1;33m\u001b[0m\u001b[0m\n\u001b[1;32m---> 14\u001b[1;33m \u001b[1;32mfrom\u001b[0m \u001b[0mPreprocessing\u001b[0m\u001b[1;33m.\u001b[0m\u001b[0mNAOMI\u001b[0m\u001b[1;33m.\u001b[0m\u001b[0mnaomi\u001b[0m \u001b[1;32mimport\u001b[0m \u001b[0mNAMOIimputation\u001b[0m\u001b[1;33m\u001b[0m\u001b[1;33m\u001b[0m\u001b[0m\n\u001b[0m\u001b[0;32m     15\u001b[0m \u001b[1;32mfrom\u001b[0m \u001b[0mPreprocessing\u001b[0m\u001b[1;33m.\u001b[0m\u001b[0mBRITS\u001b[0m\u001b[1;33m.\u001b[0m\u001b[0mbrits\u001b[0m \u001b[1;32mimport\u001b[0m \u001b[0mBRITSimputation\u001b[0m\u001b[1;33m\u001b[0m\u001b[1;33m\u001b[0m\u001b[0m\n\u001b[0;32m     16\u001b[0m \u001b[1;33m\u001b[0m\u001b[0m\n",
      "\u001b[1;31mModuleNotFoundError\u001b[0m: No module named 'Preprocessing'"
     ]
    }
   ],
   "source": [
    "from ModelSelection import modelSelection"
   ]
  },
  {
   "cell_type": "code",
   "execution_count": 2,
   "id": "34383a9d-ac83-4815-8762-7cc95201eac5",
   "metadata": {},
   "outputs": [],
   "source": [
    "def editData(inData):\n",
    "    # to aviod error\n",
    "    try:\n",
    "        inDf = pd.read_csv(inData,encoding='ms949')  # get requested file\n",
    "    except Exception as e :\n",
    "        inDf = open(inData, 'rt', encoding = 'UTF-8')\n",
    "        inDf = inDf.fillna(\"NaN\")\n",
    "\n",
    "        model, method = model_selection.getModel(uid, inSelectedModel, dataframe, window_size)\n",
    "        inDf.close()\n",
    "    return inDf\n",
    "\n",
    "def saveData(inData):  # request file to user 보내주는부분\n",
    "    uid = inData  # get requested uid 받아오는 부분\n",
    "    model, method = getModel(uid)\n",
    "    result_df = model.df.copy()\n",
    "    result = model.predict_result()\n",
    "    if method == \"NAOMI\":\n",
    "        result = model.scaler.inverse_transform(result.reshape(-1,1)).squeeze()\n",
    "    result_df[\"value\"] = result\n",
    "    src = \"media/result_\" + uid + \".csv\"\n",
    "    result_df.to_csv(src, encoding='UTF-8')"
   ]
  },
  {
   "cell_type": "code",
   "execution_count": null,
   "id": "385be8e9-1723-4500-b3cb-e633ee72483f",
   "metadata": {},
   "outputs": [],
   "source": []
  },
  {
   "cell_type": "code",
   "execution_count": null,
   "id": "1dd8ae73-fabf-4f50-b657-0cbc295bf1c4",
   "metadata": {},
   "outputs": [],
   "source": []
  }
 ],
 "metadata": {
  "kernelspec": {
   "display_name": "Python 3",
   "language": "python",
   "name": "python3"
  },
  "language_info": {
   "codemirror_mode": {
    "name": "ipython",
    "version": 3
   },
   "file_extension": ".py",
   "mimetype": "text/x-python",
   "name": "python",
   "nbconvert_exporter": "python",
   "pygments_lexer": "ipython3",
   "version": "3.8.8"
  }
 },
 "nbformat": 4,
 "nbformat_minor": 5
}
