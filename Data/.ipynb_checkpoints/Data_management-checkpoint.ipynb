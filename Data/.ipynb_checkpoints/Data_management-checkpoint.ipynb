{
 "cells": [
  {
   "cell_type": "code",
   "execution_count": 6,
   "id": "318a37b2-65fe-4ee0-92d5-76cf5c5a7cb3",
   "metadata": {},
   "outputs": [],
   "source": [
    "import pandas as pd\n",
    "import os, sys"
   ]
  },
  {
   "cell_type": "code",
   "execution_count": 1,
   "id": "34383a9d-ac83-4815-8762-7cc95201eac5",
   "metadata": {},
   "outputs": [],
   "source": [
    "class DataManagement:\n",
    "    def __init__(self, dataframe):\n",
    "        self.dataframe = dataframe\n",
    "        \n",
    "    def editData(inDf):\n",
    "        # to aviod error\n",
    "        try:\n",
    "            inDf = pd.read_csv(inData,encoding='utf-8')  # get requested file\n",
    "        except Exception as e :\n",
    "            inDf = open(inData, 'rt', encoding = 'UTF-8')\n",
    "            inDf = inDf.fillna(\"NaN\")\n",
    "\n",
    "            model, method = model_selection.getModel(uid, inSelectedModel, dataframe, window_size)\n",
    "            inDf.close()\n",
    "        return inDf\n",
    "\n",
    "    def saveData(inData):  # request file to user 보내주는부분\n",
    "        uid = inData  # get requested uid 받아오는 부분\n",
    "        model, method = getModel(uid)\n",
    "        result_df = model.df.copy()\n",
    "        result = model.predict_result()\n",
    "        if method == \"NAOMI\":\n",
    "            result = model.scaler.inverse_transform(result.reshape(-1,1)).squeeze()\n",
    "        result_df[\"value\"] = result\n",
    "        src = \"media/result_\" + uid + \".csv\"\n",
    "        inData = result_df.to_csv(src, encoding='UTF-8')\n",
    "        return inData"
   ]
  },
  {
   "cell_type": "code",
   "execution_count": null,
   "id": "385be8e9-1723-4500-b3cb-e633ee72483f",
   "metadata": {},
   "outputs": [],
   "source": []
  },
  {
   "cell_type": "code",
   "execution_count": null,
   "id": "1dd8ae73-fabf-4f50-b657-0cbc295bf1c4",
   "metadata": {},
   "outputs": [],
   "source": []
  }
 ],
 "metadata": {
  "kernelspec": {
   "display_name": "Python 3",
   "language": "python",
   "name": "python3"
  },
  "language_info": {
   "codemirror_mode": {
    "name": "ipython",
    "version": 3
   },
   "file_extension": ".py",
   "mimetype": "text/x-python",
   "name": "python",
   "nbconvert_exporter": "python",
   "pygments_lexer": "ipython3",
   "version": "3.8.8"
  }
 },
 "nbformat": 4,
 "nbformat_minor": 5
}
