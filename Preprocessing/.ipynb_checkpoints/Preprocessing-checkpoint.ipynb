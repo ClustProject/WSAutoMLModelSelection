{
 "cells": [
  {
   "cell_type": "code",
   "execution_count": 15,
   "id": "64dbec80-8e3e-4774-9c4d-0f5b0c0943bb",
   "metadata": {},
   "outputs": [],
   "source": [
    "import pandas as pd\n",
    "import numpy as np\n",
    "from sklearn.base import BaseEstimator, TransformerMixin\n",
    "from NAOMI.naomi import NAMOIimputation\n",
    "from BRITS.brits import BRITSimputation\n",
    "\n",
    "# Data_management.py파일 가져오는 부분.\n",
    "import os, sys\n",
    "data_path = '../Data/__init__.py'\n",
    "sys.path.append(os.path.dirname(os.path.abspath(os.path.dirname(data_path))))\n",
    "from Data.Data_management import editData\n",
    "\n",
    "class Preprocessing:\n",
    "\n",
    "    \n",
    "\n",
    "def Preprocessing(inPre):\n",
    "        inPre = editData()\n",
    "        outPre = NAMOIimputation(inPre,window_size=50, use_gpu = False)\n",
    "        return outPre"
   ]
  },
  {
   "cell_type": "code",
   "execution_count": 16,
   "id": "afc2f157-0f9a-4be8-9f65-5f63c6d4a977",
   "metadata": {},
   "outputs": [],
   "source": [
    "# 현재 디렉토리 위치 확인\n",
    "# print(os.getcwd())"
   ]
  },
  {
   "cell_type": "code",
   "execution_count": 17,
   "id": "2e657d02-e406-4696-8018-ce328c9264e2",
   "metadata": {},
   "outputs": [],
   "source": []
  },
  {
   "cell_type": "code",
   "execution_count": 18,
   "id": "f67623eb-acb0-4a65-acac-fdb6d61c50d9",
   "metadata": {},
   "outputs": [],
   "source": []
  },
  {
   "cell_type": "code",
   "execution_count": null,
   "id": "713cfa44-bfe2-4f30-a1fd-9ffe6b1abdb4",
   "metadata": {},
   "outputs": [],
   "source": []
  }
 ],
 "metadata": {
  "kernelspec": {
   "display_name": "Python 3",
   "language": "python",
   "name": "python3"
  },
  "language_info": {
   "codemirror_mode": {
    "name": "ipython",
    "version": 3
   },
   "file_extension": ".py",
   "mimetype": "text/x-python",
   "name": "python",
   "nbconvert_exporter": "python",
   "pygments_lexer": "ipython3",
   "version": "3.8.8"
  }
 },
 "nbformat": 4,
 "nbformat_minor": 5
}
