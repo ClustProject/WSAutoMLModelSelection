{
 "cells": [
  {
   "cell_type": "code",
   "execution_count": 1,
   "id": "3e033bcb-eeae-4900-acdc-0ea062b95799",
   "metadata": {},
   "outputs": [],
   "source": [
    "import pandas as pd\n",
    "import numpy as np"
   ]
  },
  {
   "cell_type": "code",
   "execution_count": 1,
   "id": "e6c34865-dadf-4ffe-b5d9-ddd201889247",
   "metadata": {},
   "outputs": [],
   "source": [
    "import os, sys\n",
    "data_path = '../Data/__init__.py'\n",
    "sys.path.append(os.path.dirname(os.path.abspath(os.path.dirname(data_path))))\n",
    "from Data.Data_management import editData"
   ]
  },
  {
   "cell_type": "code",
   "execution_count": 2,
   "id": "accfd492-aad3-4ad9-ba66-b5d7257331cb",
   "metadata": {},
   "outputs": [],
   "source": [
    "class Visualization:\n",
    "    def Visualize(inVisual):\n",
    "        inVisual = editData()\n",
    "        return outVisual"
   ]
  },
  {
   "cell_type": "code",
   "execution_count": null,
   "id": "495b8e2c-665d-4abc-a6dc-2542c53c89a4",
   "metadata": {},
   "outputs": [],
   "source": []
  }
 ],
 "metadata": {
  "kernelspec": {
   "display_name": "Python 3",
   "language": "python",
   "name": "python3"
  },
  "language_info": {
   "codemirror_mode": {
    "name": "ipython",
    "version": 3
   },
   "file_extension": ".py",
   "mimetype": "text/x-python",
   "name": "python",
   "nbconvert_exporter": "python",
   "pygments_lexer": "ipython3",
   "version": "3.8.8"
  }
 },
 "nbformat": 4,
 "nbformat_minor": 5
}
