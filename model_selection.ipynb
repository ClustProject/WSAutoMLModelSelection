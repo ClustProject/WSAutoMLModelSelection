{
 "cells": [
  {
   "cell_type": "markdown",
   "id": "9b37f884-e529-4b93-8bac-8f012f9a9f90",
   "metadata": {},
   "source": [
    "# 1. 라이브러리 선언"
   ]
  },
  {
   "cell_type": "code",
   "execution_count": 1,
   "id": "2a857e90-943f-4a8b-8cfa-4246d4efac4c",
   "metadata": {},
   "outputs": [],
   "source": [
    "import pandas as pd\n",
    "import numpy as np\n",
    "import sys,os\n",
    "import pandas as pd\n",
    "import numpy as np\n",
    "from sklearn.base import BaseEstimator, TransformerMixin"
   ]
  },
  {
   "cell_type": "code",
   "execution_count": 2,
   "id": "f075ab87-2bfa-4b75-a67e-486658f79982",
   "metadata": {},
   "outputs": [],
   "source": [
    "# 패키지 추가"
   ]
  },
  {
   "cell_type": "code",
   "execution_count": 7,
   "id": "5a5828d9-ac42-435a-b84f-cfaaff6022f3",
   "metadata": {},
   "outputs": [],
   "source": [
    "# 모델 경로 추가\n",
    "from Preprocessing.NAOMI.naomi import NAMOIimputation\n",
    "from Preprocessing.BRITS.brits import BRITSimputation\n",
    "from Visualization.Visualize import Visualize\n",
    "from Analysis.Analysis import Analysis"
   ]
  },
  {
   "cell_type": "code",
   "execution_count": 8,
   "id": "56b3e0c4-7beb-4339-9690-fc69cd91c0dd",
   "metadata": {},
   "outputs": [],
   "source": [
    "class Model_selection:\n",
    "    \n",
    "    def getModel(inSelectedModel):\n",
    "    \n",
    "        \n",
    "#         if inSelectedModel == \"TrainedModel\":\n",
    "#             TrainedModel(inModel)\n",
    "        if inSelectedModel == \"Analysis\":\n",
    "            Analysis\n",
    "        elif inSelectedModel == \"Preprocessing\":\n",
    "            NAMOIimputation\n",
    "            BRITSimputation\n",
    "        elif inSelectedModel == \"Visualization\":\n",
    "            Visualize"
   ]
  },
  {
   "cell_type": "code",
   "execution_count": null,
   "id": "7e1249c7-5a79-4488-9a14-ebd20891ded9",
   "metadata": {},
   "outputs": [],
   "source": []
  }
 ],
 "metadata": {
  "kernelspec": {
   "display_name": "Python 3",
   "language": "python",
   "name": "python3"
  },
  "language_info": {
   "codemirror_mode": {
    "name": "ipython",
    "version": 3
   },
   "file_extension": ".py",
   "mimetype": "text/x-python",
   "name": "python",
   "nbconvert_exporter": "python",
   "pygments_lexer": "ipython3",
   "version": "3.8.8"
  }
 },
 "nbformat": 4,
 "nbformat_minor": 5
}
